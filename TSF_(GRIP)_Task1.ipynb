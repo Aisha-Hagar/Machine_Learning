{
  "nbformat": 4,
  "nbformat_minor": 0,
  "metadata": {
    "colab": {
      "provenance": [],
      "collapsed_sections": [],
      "authorship_tag": "ABX9TyNMDlmWOF4Hs6SOWJqiCo+t",
      "include_colab_link": true
    },
    "kernelspec": {
      "name": "python3",
      "display_name": "Python 3"
    },
    "language_info": {
      "name": "python"
    }
  },
  "cells": [
    {
      "cell_type": "markdown",
      "metadata": {
        "id": "view-in-github",
        "colab_type": "text"
      },
      "source": [
        "<a href=\"https://colab.research.google.com/github/Aisha-Hagar/Machine_Learning/blob/main/TSF_(GRIP)_Task1.ipynb\" target=\"_parent\"><img src=\"https://colab.research.google.com/assets/colab-badge.svg\" alt=\"Open In Colab\"/></a>"
      ]
    },
    {
      "cell_type": "markdown",
      "source": [
        "# **Prediction Using Supervised ML** \n",
        "\n",
        "Predict the score of a student based on the number of study hours using linear regression."
      ],
      "metadata": {
        "id": "0xHLFK-iGOeN"
      }
    },
    {
      "cell_type": "markdown",
      "source": [
        "Author: Aisha Hagar"
      ],
      "metadata": {
        "id": "uG5RLkM-NgQG"
      }
    },
    {
      "cell_type": "markdown",
      "source": [
        "## **Setup**"
      ],
      "metadata": {
        "id": "3V1PwTJpJsJC"
      }
    },
    {
      "cell_type": "code",
      "source": [
        "import pandas as pd\n",
        "import numpy as np\n",
        "import matplotlib.pyplot as plt\n",
        "from sklearn.model_selection import train_test_split\n",
        "from sklearn.linear_model import LinearRegression\n",
        "from sklearn.metrics import mean_absolute_error"
      ],
      "metadata": {
        "id": "494NMtyEJulX"
      },
      "execution_count": null,
      "outputs": []
    },
    {
      "cell_type": "markdown",
      "source": [
        "## **Data Loading and Preparation**"
      ],
      "metadata": {
        "id": "GBUgnpKxGmS1"
      }
    },
    {
      "cell_type": "markdown",
      "source": [
        "Load the data from the given URL."
      ],
      "metadata": {
        "id": "CrEhQlGGNxJp"
      }
    },
    {
      "cell_type": "code",
      "source": [
        "data_url = 'https://raw.githubusercontent.com/AdiPersonalWorks/Random/master/student_scores%20-%20student_scores.csv'\n",
        "data_df = pd.read_csv(data_url)"
      ],
      "metadata": {
        "id": "dMzM_lTLJiOg"
      },
      "execution_count": null,
      "outputs": []
    },
    {
      "cell_type": "markdown",
      "source": [
        "View a snippet of the data, check the values and data types and plot the data. \n",
        "\n",
        "This is done to have better a understanding of the data."
      ],
      "metadata": {
        "id": "k0Q90wlqN0uj"
      }
    },
    {
      "cell_type": "code",
      "source": [
        "data_df.head()"
      ],
      "metadata": {
        "colab": {
          "base_uri": "https://localhost:8080/",
          "height": 206
        },
        "id": "Qv386UEmOW2d",
        "outputId": "e0cbd071-6d43-4348-968b-e3951a6e1ed2"
      },
      "execution_count": null,
      "outputs": [
        {
          "output_type": "execute_result",
          "data": {
            "text/html": [
              "\n",
              "  <div id=\"df-10f4138e-6a16-4463-b337-a5eb76214667\">\n",
              "    <div class=\"colab-df-container\">\n",
              "      <div>\n",
              "<style scoped>\n",
              "    .dataframe tbody tr th:only-of-type {\n",
              "        vertical-align: middle;\n",
              "    }\n",
              "\n",
              "    .dataframe tbody tr th {\n",
              "        vertical-align: top;\n",
              "    }\n",
              "\n",
              "    .dataframe thead th {\n",
              "        text-align: right;\n",
              "    }\n",
              "</style>\n",
              "<table border=\"1\" class=\"dataframe\">\n",
              "  <thead>\n",
              "    <tr style=\"text-align: right;\">\n",
              "      <th></th>\n",
              "      <th>Hours</th>\n",
              "      <th>Scores</th>\n",
              "    </tr>\n",
              "  </thead>\n",
              "  <tbody>\n",
              "    <tr>\n",
              "      <th>0</th>\n",
              "      <td>2.5</td>\n",
              "      <td>21</td>\n",
              "    </tr>\n",
              "    <tr>\n",
              "      <th>1</th>\n",
              "      <td>5.1</td>\n",
              "      <td>47</td>\n",
              "    </tr>\n",
              "    <tr>\n",
              "      <th>2</th>\n",
              "      <td>3.2</td>\n",
              "      <td>27</td>\n",
              "    </tr>\n",
              "    <tr>\n",
              "      <th>3</th>\n",
              "      <td>8.5</td>\n",
              "      <td>75</td>\n",
              "    </tr>\n",
              "    <tr>\n",
              "      <th>4</th>\n",
              "      <td>3.5</td>\n",
              "      <td>30</td>\n",
              "    </tr>\n",
              "  </tbody>\n",
              "</table>\n",
              "</div>\n",
              "      <button class=\"colab-df-convert\" onclick=\"convertToInteractive('df-10f4138e-6a16-4463-b337-a5eb76214667')\"\n",
              "              title=\"Convert this dataframe to an interactive table.\"\n",
              "              style=\"display:none;\">\n",
              "        \n",
              "  <svg xmlns=\"http://www.w3.org/2000/svg\" height=\"24px\"viewBox=\"0 0 24 24\"\n",
              "       width=\"24px\">\n",
              "    <path d=\"M0 0h24v24H0V0z\" fill=\"none\"/>\n",
              "    <path d=\"M18.56 5.44l.94 2.06.94-2.06 2.06-.94-2.06-.94-.94-2.06-.94 2.06-2.06.94zm-11 1L8.5 8.5l.94-2.06 2.06-.94-2.06-.94L8.5 2.5l-.94 2.06-2.06.94zm10 10l.94 2.06.94-2.06 2.06-.94-2.06-.94-.94-2.06-.94 2.06-2.06.94z\"/><path d=\"M17.41 7.96l-1.37-1.37c-.4-.4-.92-.59-1.43-.59-.52 0-1.04.2-1.43.59L10.3 9.45l-7.72 7.72c-.78.78-.78 2.05 0 2.83L4 21.41c.39.39.9.59 1.41.59.51 0 1.02-.2 1.41-.59l7.78-7.78 2.81-2.81c.8-.78.8-2.07 0-2.86zM5.41 20L4 18.59l7.72-7.72 1.47 1.35L5.41 20z\"/>\n",
              "  </svg>\n",
              "      </button>\n",
              "      \n",
              "  <style>\n",
              "    .colab-df-container {\n",
              "      display:flex;\n",
              "      flex-wrap:wrap;\n",
              "      gap: 12px;\n",
              "    }\n",
              "\n",
              "    .colab-df-convert {\n",
              "      background-color: #E8F0FE;\n",
              "      border: none;\n",
              "      border-radius: 50%;\n",
              "      cursor: pointer;\n",
              "      display: none;\n",
              "      fill: #1967D2;\n",
              "      height: 32px;\n",
              "      padding: 0 0 0 0;\n",
              "      width: 32px;\n",
              "    }\n",
              "\n",
              "    .colab-df-convert:hover {\n",
              "      background-color: #E2EBFA;\n",
              "      box-shadow: 0px 1px 2px rgba(60, 64, 67, 0.3), 0px 1px 3px 1px rgba(60, 64, 67, 0.15);\n",
              "      fill: #174EA6;\n",
              "    }\n",
              "\n",
              "    [theme=dark] .colab-df-convert {\n",
              "      background-color: #3B4455;\n",
              "      fill: #D2E3FC;\n",
              "    }\n",
              "\n",
              "    [theme=dark] .colab-df-convert:hover {\n",
              "      background-color: #434B5C;\n",
              "      box-shadow: 0px 1px 3px 1px rgba(0, 0, 0, 0.15);\n",
              "      filter: drop-shadow(0px 1px 2px rgba(0, 0, 0, 0.3));\n",
              "      fill: #FFFFFF;\n",
              "    }\n",
              "  </style>\n",
              "\n",
              "      <script>\n",
              "        const buttonEl =\n",
              "          document.querySelector('#df-10f4138e-6a16-4463-b337-a5eb76214667 button.colab-df-convert');\n",
              "        buttonEl.style.display =\n",
              "          google.colab.kernel.accessAllowed ? 'block' : 'none';\n",
              "\n",
              "        async function convertToInteractive(key) {\n",
              "          const element = document.querySelector('#df-10f4138e-6a16-4463-b337-a5eb76214667');\n",
              "          const dataTable =\n",
              "            await google.colab.kernel.invokeFunction('convertToInteractive',\n",
              "                                                     [key], {});\n",
              "          if (!dataTable) return;\n",
              "\n",
              "          const docLinkHtml = 'Like what you see? Visit the ' +\n",
              "            '<a target=\"_blank\" href=https://colab.research.google.com/notebooks/data_table.ipynb>data table notebook</a>'\n",
              "            + ' to learn more about interactive tables.';\n",
              "          element.innerHTML = '';\n",
              "          dataTable['output_type'] = 'display_data';\n",
              "          await google.colab.output.renderOutput(dataTable, element);\n",
              "          const docLink = document.createElement('div');\n",
              "          docLink.innerHTML = docLinkHtml;\n",
              "          element.appendChild(docLink);\n",
              "        }\n",
              "      </script>\n",
              "    </div>\n",
              "  </div>\n",
              "  "
            ],
            "text/plain": [
              "   Hours  Scores\n",
              "0    2.5      21\n",
              "1    5.1      47\n",
              "2    3.2      27\n",
              "3    8.5      75\n",
              "4    3.5      30"
            ]
          },
          "metadata": {},
          "execution_count": 84
        }
      ]
    },
    {
      "cell_type": "code",
      "source": [
        "print(data_df.info())\n",
        "data_df.plot(kind='scatter',x='Hours',y='Scores',color='blue')\n",
        "plt.show()"
      ],
      "metadata": {
        "colab": {
          "base_uri": "https://localhost:8080/",
          "height": 453
        },
        "id": "5DmfmJGqKN91",
        "outputId": "5d1e467c-0f28-4029-dac6-b22d3e531159"
      },
      "execution_count": null,
      "outputs": [
        {
          "output_type": "stream",
          "name": "stdout",
          "text": [
            "<class 'pandas.core.frame.DataFrame'>\n",
            "RangeIndex: 25 entries, 0 to 24\n",
            "Data columns (total 2 columns):\n",
            " #   Column  Non-Null Count  Dtype  \n",
            "---  ------  --------------  -----  \n",
            " 0   Hours   25 non-null     float64\n",
            " 1   Scores  25 non-null     int64  \n",
            "dtypes: float64(1), int64(1)\n",
            "memory usage: 528.0 bytes\n",
            "None\n"
          ]
        },
        {
          "output_type": "display_data",
          "data": {
            "image/png": "[encoded data removed]",
            "text/plain": [
              "<Figure size 432x288 with 1 Axes>"
            ]
          },
          "metadata": {
            "needs_background": "light"
          }
        }
      ]
    },
    {
      "cell_type": "markdown",
      "source": [
        "Seperate the features and the labels into X and y.\n",
        "\n",
        "Split the data to train and test sets with ratio 8:2"
      ],
      "metadata": {
        "id": "WdzMPPzUCe6X"
      }
    },
    {
      "cell_type": "code",
      "source": [
        "X = data_df['Hours'].values.reshape(-1, 1)\n",
        "y = data_df['Scores']\n",
        "X_train, X_test, y_train, y_test = train_test_split(X, y, test_size=0.2, random_state=42)"
      ],
      "metadata": {
        "id": "Tc3GCWQxMWO6"
      },
      "execution_count": null,
      "outputs": []
    },
    {
      "cell_type": "markdown",
      "source": [
        "## **Training**"
      ],
      "metadata": {
        "id": "PP0l5xEnGn-y"
      }
    },
    {
      "cell_type": "markdown",
      "source": [
        "Create a linear regression model and train it over the train set."
      ],
      "metadata": {
        "id": "qLfDvDgrMECx"
      }
    },
    {
      "cell_type": "code",
      "source": [
        "reg = LinearRegression().fit(X_train, y_train)"
      ],
      "metadata": {
        "id": "kvJCDCq5MlTq"
      },
      "execution_count": null,
      "outputs": []
    },
    {
      "cell_type": "markdown",
      "source": [
        "Plot the trained model.\n",
        "\n",
        "The model is linear which means it can be visualized by plotting the equation of the straight line: \n",
        "\n",
        "Regression line = Coefficients*train set + regression line intercept"
      ],
      "metadata": {
        "id": "Sao7ct87MQ5Y"
      }
    },
    {
      "cell_type": "code",
      "source": [
        "reg_line = reg.coef_*X_train + reg.intercept_\n",
        "plt.plot(X_train, reg_line)\n",
        "plt.scatter(X_train, y_train, color='red')\n",
        "plt.show()"
      ],
      "metadata": {
        "colab": {
          "base_uri": "https://localhost:8080/",
          "height": 265
        },
        "id": "Gd-4SIGoF5aD",
        "outputId": "bc17a1cb-47a2-40ba-9f84-21f2c3cc0089"
      },
      "execution_count": null,
      "outputs": [
        {
          "output_type": "display_data",
          "data": {
            "image/png": "[encoded data removed]",
            "text/plain": [
              "<Figure size 432x288 with 1 Axes>"
            ]
          },
          "metadata": {
            "needs_background": "light"
          }
        }
      ]
    },
    {
      "cell_type": "markdown",
      "source": [
        "## **Testing**"
      ],
      "metadata": {
        "id": "V6_abfc5Go4Z"
      }
    },
    {
      "cell_type": "markdown",
      "source": [
        "Predict the scores of the test set."
      ],
      "metadata": {
        "id": "h00VKNioLZpg"
      }
    },
    {
      "cell_type": "code",
      "execution_count": null,
      "metadata": {
        "id": "9mAaGIOuGKuf"
      },
      "outputs": [],
      "source": [
        "y_pred = reg.predict(X_test)"
      ]
    },
    {
      "cell_type": "markdown",
      "source": [
        "Plot the predicted scores over the regression line."
      ],
      "metadata": {
        "id": "X2WvlJYqLjTS"
      }
    },
    {
      "cell_type": "code",
      "source": [
        "plt.plot(X_train, reg_line, label ='Regression Line')\n",
        "plt.scatter(X_test, y_pred, color='red', label ='Predicted Scores')\n",
        "plt.legend()\n",
        "plt.show()"
      ],
      "metadata": {
        "colab": {
          "base_uri": "https://localhost:8080/",
          "height": 265
        },
        "id": "SCDfNurKKAMX",
        "outputId": "b7e57ba0-1a35-4f94-e911-df17b55a103e"
      },
      "execution_count": null,
      "outputs": [
        {
          "output_type": "display_data",
          "data": {
            "image/png": "[encoded data removed]",
            "text/plain": [
              "<Figure size 432x288 with 1 Axes>"
            ]
          },
          "metadata": {
            "needs_background": "light"
          }
        }
      ]
    },
    {
      "cell_type": "markdown",
      "source": [
        "## **Performance Evaluation**"
      ],
      "metadata": {
        "id": "rr_TDS14DriH"
      }
    },
    {
      "cell_type": "markdown",
      "source": [
        "Plot the predicted and actual scores to visualize the difference between them."
      ],
      "metadata": {
        "id": "gQwTeSb3LG9k"
      }
    },
    {
      "cell_type": "code",
      "source": [
        "plt.plot(X_train, reg_line, label ='Regression Line')\n",
        "plt.scatter(X_test, y_test, color='green', label ='Actual Score')\n",
        "plt.scatter(X_test, y_pred, color='red', label ='Predicted Score')\n",
        "plt.legend()\n",
        "plt.show()"
      ],
      "metadata": {
        "colab": {
          "base_uri": "https://localhost:8080/",
          "height": 265
        },
        "id": "3zEfNJRuIw1G",
        "outputId": "aa00038d-d9d2-443c-ffd3-e1c98a080bd4"
      },
      "execution_count": null,
      "outputs": [
        {
          "output_type": "display_data",
          "data": {
            "image/png": "[encoded data removed]",
            "text/plain": [
              "<Figure size 432x288 with 1 Axes>"
            ]
          },
          "metadata": {
            "needs_background": "light"
          }
        }
      ]
    },
    {
      "cell_type": "markdown",
      "source": [
        "Evaluate the model's performance using mean absolute error metric."
      ],
      "metadata": {
        "id": "M6xA9Ot2L1Zl"
      }
    },
    {
      "cell_type": "code",
      "source": [
        "MAE = mean_absolute_error(y_test, y_pred)\n",
        "print('The mean absolute error is ', MAE )"
      ],
      "metadata": {
        "colab": {
          "base_uri": "https://localhost:8080/"
        },
        "id": "EBKO6GCbDx9O",
        "outputId": "fdf09fec-e500-45c1-8b4d-c9a2382011e6"
      },
      "execution_count": null,
      "outputs": [
        {
          "output_type": "stream",
          "name": "stdout",
          "text": [
            "The mean absolute error is  3.9207511902099244\n"
          ]
        }
      ]
    },
    {
      "cell_type": "markdown",
      "source": [
        "## **What will be the predicted score if a student studies for 9.25 hrs/day?**"
      ],
      "metadata": {
        "id": "d5Me1QT8PIJE"
      }
    },
    {
      "cell_type": "code",
      "source": [
        "X_ = np.array(9.25)\n",
        "y_ = reg.predict(X_.reshape(1, -1))\n",
        "print('The predicted score for a student who studies for {0} hrs/day is: {1}'.format(X_, y_))"
      ],
      "metadata": {
        "colab": {
          "base_uri": "https://localhost:8080/"
        },
        "id": "Juc1ehZNPYYp",
        "outputId": "cb66de3a-65e6-4f17-93d4-eaa8ae364c16"
      },
      "execution_count": null,
      "outputs": [
        {
          "output_type": "stream",
          "name": "stdout",
          "text": [
            "The predicted score for a student who studies for 9.25 hrs/day is: [92.38611528]\n"
          ]
        }
      ]
    }
  ]
}